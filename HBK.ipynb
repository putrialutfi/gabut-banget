{
 "cells": [
  {
   "cell_type": "code",
   "execution_count": null,
   "metadata": {},
   "outputs": [],
   "source": [
    "import string\n",
    "alf = string.ascii_lowercase\n",
    "\n",
    "n = [4, 11, 7, 0, 15, 24]\n",
    "m = [1, 8, 17, 19, 7, 3, 0, 24]\n",
    "\n",
    "def layer1(x, y):\n",
    "    lay = list(x)[0]+\"| \"\n",
    "    for i in range(2, 6):\n",
    "        lay += alf[y[i]]+\" \"\n",
    "        if y[i] == 15:\n",
    "            lay += lay[-2]+\" \"\n",
    "    lay += \"|\"\n",
    "    return print(lay)\n",
    "\n",
    "def layer2(x=None):\n",
    "    lay = list(top)[0][0]+\"_\"*x+\"|\"+\"_\"*n[1]+\"|\"+\"_\"*x+\"\\n|\"+\"^\"*(n[0]+n[4])+\"|\"\n",
    "    return print((lay))\n",
    "\n",
    "def layer3(x, y):\n",
    "    lay2 = ''.join([i for i in list(x)])\n",
    "    for i in range(0, len(y)):\n",
    "        lay2 += \" \"+alf[y[i]]\n",
    "    return print(lay2,''.join([i for i in list(x)[::-1]]))\n",
    "\n",
    "def layer4(x=None, y=None):\n",
    "    lay3 = \"|\"+y\n",
    "    for i in range(0, 3):\n",
    "        if i%2 == 0:\n",
    "            lay3 += \" \"+alf[x[1]]\n",
    "        else:\n",
    "            lay3 += \" \"+alf[x[0]]\n",
    "    return print(lay3+y+\" |\\n\"+\"-\"*21)\n",
    "\n",
    "top = \" \"*n[0],\"i\"*n[1]\n",
    "fst = \"|\",\" \"*1\n",
    "print(' '.join([i for i in list(top)]))\n",
    "layer1(top, n)\n",
    "layer2(x=(n[0]-1))\n",
    "layer3(fst, m)\n",
    "layer4(x=[n[3],(n[1]-m[0])], y=\" \"*6)"
   ]
  }
 ],
 "metadata": {
  "kernelspec": {
   "display_name": "Python 3",
   "language": "python",
   "name": "python3"
  },
  "language_info": {
   "codemirror_mode": {
    "name": "ipython",
    "version": 3
   },
   "file_extension": ".py",
   "mimetype": "text/x-python",
   "name": "python",
   "nbconvert_exporter": "python",
   "pygments_lexer": "ipython3",
   "version": "3.8.5"
  }
 },
 "nbformat": 4,
 "nbformat_minor": 4
}
